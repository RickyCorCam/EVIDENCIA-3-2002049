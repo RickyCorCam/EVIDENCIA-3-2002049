{
  "nbformat": 4,
  "nbformat_minor": 0,
  "metadata": {
    "colab": {
      "provenance": []
    },
    "kernelspec": {
      "name": "python3",
      "display_name": "Python 3"
    },
    "language_info": {
      "name": "python"
    }
  },
  "cells": [
    {
      "cell_type": "code",
      "source": [
        "import pickle\n",
        "\n",
        "def serializar(objeto, nombre_archivo):\n",
        "    with open(nombre_archivo, 'wb') as archivo:\n",
        "        pickle.dump(objeto, archivo)\n",
        "    print(f\"Objeto serializado y almacenado en {nombre_archivo}\")\n",
        "\n",
        "def deserializar(nombre_archivo):\n",
        "    with open(nombre_archivo, 'rb') as archivo:\n",
        "        objeto_recuperado = pickle.load(archivo)\n",
        "    return objeto_recuperado\n",
        "\n",
        "class MiClase:\n",
        "    def __init__(self, nombre):\n",
        "        self.nombre = nombre\n",
        "\n",
        "objeto_original = MiClase(\"Ejemplo\")\n",
        "\n",
        "serializar(objeto_original, 'archivo_pickle.bin')\n",
        "\n",
        "objeto_recuperado = deserializar('archivo_pickle.bin')\n",
        "\n",
        "print(\"Objeto original:\", objeto_original.nombre)\n",
        "print(\"Objeto recuperado:\", objeto_recuperado.nombre)\n"
      ],
      "metadata": {
        "colab": {
          "base_uri": "https://localhost:8080/"
        },
        "id": "LP-nDfumY34i",
        "outputId": "8b26ef0d-6433-43ed-8827-a87340afd7d4"
      },
      "execution_count": 3,
      "outputs": [
        {
          "output_type": "stream",
          "name": "stdout",
          "text": [
            "Objeto serializado y almacenado en archivo_pickle.bin\n",
            "Objeto original: Ejemplo\n",
            "Objeto recuperado: Ejemplo\n"
          ]
        }
      ]
    }
  ]
}